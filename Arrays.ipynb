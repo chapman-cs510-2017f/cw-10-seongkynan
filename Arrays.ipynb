{
 "cells": [
  {
   "cell_type": "markdown",
   "metadata": {
    "collapsed": false
   },
   "source": [
    "#### How does the program arrays work?\n",
    "First, it includes the headers stdio.h and stdlib.h. The main function starts with declaring an array with 10 integer elements (`int array[array_size]`. Similarly and however in a different method, it defines the same array using a malloc function. It allocates the same size of elements and assigns it to a pointer called memblock (`int *memblock = malloc(array_size * sizeof(int))`). Creating the pointer memblock, it checks a possible failure of malloc. If there is a problem, it will print out the error message to the 'file' of standard error and finally returns -1 (no success) integer. The program also shows a method of creating an array of characters. This time, it uses the a pointer (`const char *foo = \"Foo bar .\";`). In C language, a string is regarded as an array of characters. And the pointer `*foo` points the first element of the string array \"Foo bar .\" in this case. Next, the program assigns the integer element 0-9 to the arrays (array and memblock) that are created. Finally, using a for-loop, it prints out each element of the arrays in four columns, which highlights four different ways to access to the arrays: 1) array\\[i\\], 2) \\*(memblock + i), 3) foo\\[i\\], and 4) \\*(foo+i).  \n",
    "\n"
   ]
  },
  {
   "cell_type": "markdown",
   "metadata": {
    "collapsed": false
   },
   "source": [
    "#### Change the type of \"array\" to an array of floats. Make sure the code compiles and runs.\n",
    "#### Change the type of \"memblock\" to a pointer to long double. Make sure the code compiles and runs."
   ]
  },
  {
   "cell_type": "code",
   "execution_count": 1,
   "metadata": {
    "collapsed": false
   },
   "outputs": [
    {
     "name": "stdout",
     "output_type": "stream",
     "text": [
      "array[0] : 0.000000\t*(memblock + 0) : 0.000000\tfoo[0] : F\t*(foo + 0) : F\n"
     ]
    },
    {
     "name": "stdout",
     "output_type": "stream",
     "text": [
      "array[1] : 1.000000\t*(memblock + 1) : 1.000000\tfoo[1] : o\t*(foo + 1) : o\n"
     ]
    },
    {
     "name": "stdout",
     "output_type": "stream",
     "text": [
      "array[2] : 2.000000\t*(memblock + 2) : 2.000000\tfoo[2] : o\t*(foo + 2) : o\n"
     ]
    },
    {
     "name": "stdout",
     "output_type": "stream",
     "text": [
      "array[3] : 3.000000\t*(memblock + 3) : 3.000000\tfoo[3] :  \t*(foo + 3) :  \n"
     ]
    },
    {
     "name": "stdout",
     "output_type": "stream",
     "text": [
      "array[4] : 4.000000\t*(memblock + 4) : 4.000000\tfoo[4] : b\t*(foo + 4) : b\n"
     ]
    },
    {
     "name": "stdout",
     "output_type": "stream",
     "text": [
      "array[5] : 5.000000\t*(memblock + 5) : 5.000000\tfoo[5] : a\t*(foo + 5) : a\n"
     ]
    },
    {
     "name": "stdout",
     "output_type": "stream",
     "text": [
      "array[6] : 6.000000\t*(memblock + 6) : 6.000000\tfoo[6] : r\t*(foo + 6) : r\n"
     ]
    },
    {
     "name": "stdout",
     "output_type": "stream",
     "text": [
      "array[7] : 7.000000\t*(memblock + 7) : 7.000000\tfoo[7] :  \t*(foo + 7) :  \n"
     ]
    },
    {
     "name": "stdout",
     "output_type": "stream",
     "text": [
      "array[8] : 8.000000\t*(memblock + 8) : 8.000000\tfoo[8] : .\t*(foo + 8) : .\n"
     ]
    },
    {
     "name": "stdout",
     "output_type": "stream",
     "text": [
      "array[9] : 9.000000\t*(memblock + 9) : 9.000000\tfoo[9] : \u0000\t*(foo + 9) : \u0000\n"
     ]
    },
    {
     "name": "stdout",
     "output_type": "stream",
     "text": [
      "array[10] : -0.000000\t*(memblock + 10) : nan\tfoo[10] : m\t*(foo + 10) : m\n"
     ]
    },
    {
     "name": "stdout",
     "output_type": "stream",
     "text": [
      "array[11] : -8513092608.000000\t*(memblock + 11) : nan\tfoo[11] : a\t*(foo + 11) : a\n"
     ]
    },
    {
     "name": "stdout",
     "output_type": "stream",
     "text": [
      "array[12] : 0.000000\t*(memblock + 12) : nan\tfoo[12] : l\t*(foo + 12) : l\n"
     ]
    }
   ],
   "source": [
    "./bin/arrays"
   ]
  },
  {
   "cell_type": "markdown",
   "metadata": {
    "collapsed": false
   },
   "source": [
    "#### Refactor arrays.c to add two new functions: print_arrays and set_arrays. Move the existing code from main into these new functions as appropriate, and call them from main. You will have to think carefully about what types these new functions should be, and what arguments (if any) they should have, of what type(s). Make sure the code compiles and runs.\n",
    "**The function signatures are as follows:**\n",
    "```\n",
    "int set_arrays(int array_size, float *array, long double *memblock);\n",
    "void print_arrays(int array_size, float *array, long double *memblock, const char *foo);\n",
    "```\n",
    "**Run the functions**\n",
    "```\n",
    "set_arrays(array_size, array, memblock);\n",
    "print_arrays(array_size, array, memblock, foo);\n",
    "```\n",
    "**Update the arguments inside the functions (examples)**\n",
    "```\n",
    "array_size\n",
    "array[i] = i\n",
    "*(memblock+i) = i;\n",
    "*(foo+i)\n",
    "```"
   ]
  },
  {
   "cell_type": "code",
   "execution_count": 2,
   "metadata": {
    "collapsed": false
   },
   "outputs": [
    {
     "name": "stdout",
     "output_type": "stream",
     "text": [
      "array[0] : 0.000000\t*(memblock + 0) : 0.000000\tfoo[0] : F\t*(foo + 0) : F\n"
     ]
    },
    {
     "name": "stdout",
     "output_type": "stream",
     "text": [
      "array[1] : 1.000000\t*(memblock + 1) : 1.000000\tfoo[1] : o\t*(foo + 1) : o\n"
     ]
    },
    {
     "name": "stdout",
     "output_type": "stream",
     "text": [
      "array[2] : 2.000000\t*(memblock + 2) : 2.000000\tfoo[2] : o\t*(foo + 2) : o\n"
     ]
    },
    {
     "name": "stdout",
     "output_type": "stream",
     "text": [
      "array[3] : 3.000000\t*(memblock + 3) : 3.000000\tfoo[3] :  \t*(foo + 3) :  \n"
     ]
    },
    {
     "name": "stdout",
     "output_type": "stream",
     "text": [
      "array[4] : 4.000000\t*(memblock + 4) : 4.000000\tfoo[4] : b\t*(foo + 4) : b\n"
     ]
    },
    {
     "name": "stdout",
     "output_type": "stream",
     "text": [
      "array[5] : 5.000000\t*(memblock + 5) : 5.000000\tfoo[5] : a\t*(foo + 5) : a\n"
     ]
    },
    {
     "name": "stdout",
     "output_type": "stream",
     "text": [
      "array[6] : 6.000000\t*(memblock + 6) : 6.000000\tfoo[6] : r\t*(foo + 6) : r\n"
     ]
    },
    {
     "name": "stdout",
     "output_type": "stream",
     "text": [
      "array[7] : 7.000000\t*(memblock + 7) : 7.000000\tfoo[7] :  \t*(foo + 7) :  \n"
     ]
    },
    {
     "name": "stdout",
     "output_type": "stream",
     "text": [
      "array[8] : 8.000000\t*(memblock + 8) : 8.000000\tfoo[8] : .\t*(foo + 8) : .\n"
     ]
    },
    {
     "name": "stdout",
     "output_type": "stream",
     "text": [
      "array[9] : 9.000000\t*(memblock + 9) : 9.000000\tfoo[9] : \u0000\t*(foo + 9) : \u0000\n"
     ]
    },
    {
     "name": "stdout",
     "output_type": "stream",
     "text": [
      "array[10] : -923314889424896.000000\t*(memblock + 10) : nan\tfoo[10] : a\t*(foo + 10) : a\n"
     ]
    },
    {
     "name": "stdout",
     "output_type": "stream",
     "text": [
      "array[11] : -0.000000\t*(memblock + 11) : nan\tfoo[11] : r\t*(foo + 11) : r\n"
     ]
    },
    {
     "name": "stdout",
     "output_type": "stream",
     "text": [
      "array[12] : 0.000000\t*(memblock + 12) : nan\tfoo[12] : r\t*(foo + 12) : r\n"
     ]
    },
    {
     "name": "stdout",
     "output_type": "stream",
     "text": [
      "array size 10\tfloat array 0.000000\tmemblock 0.000000\tchar foo F\t"
     ]
    }
   ],
   "source": [
    "./bin/arrays2"
   ]
  },
  {
   "cell_type": "markdown",
   "metadata": {
    "collapsed": false
   },
   "source": [
    "#### In your notebook, explain what malloc and free do in detail.\n",
    "\n",
    "The function malloc is a function from C standard library (stdlib.h). It dynamically allocates the requested memory and retuns a pointer to the memory. The usage is like this: ```int *memblock = malloc(array_size * sizeof(int))```. The function free() releases the memory and free up the space for the next use. "
   ]
  },
  {
   "cell_type": "code",
   "execution_count": 0,
   "metadata": {
    "collapsed": false
   },
   "outputs": [
   ],
   "source": [
   ]
  }
 ],
 "metadata": {
  "kernelspec": {
   "display_name": "Bash (Linux)",
   "language": "bash",
   "name": "bash"
  },
  "language_info": {
   "codemirror_mode": "shell",
   "file_extension": ".sh",
   "mimetype": "text/x-sh",
   "name": "bash"
  }
 },
 "nbformat": 4,
 "nbformat_minor": 0
}