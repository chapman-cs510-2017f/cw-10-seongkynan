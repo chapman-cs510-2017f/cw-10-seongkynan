{
 "cells": [
  {
   "cell_type": "markdown",
   "metadata": {
    "collapsed": false
   },
   "source": [
    "#### How does print_types work?\n",
    "First, it includes headers (stdio.h, stdlib.h, typeio.h). It works as a console program that takes an argument. If it has an argument passed (`argc == 2`), it uses that argument and converts it to an integer using atoi function from stdlib.h. Atoi function converts ASCII string to an integer. If any argument is not passed, it will use a default unsigned interger 65. Next, it casts the integer to different types such as char, usigned char, shrot int, int, long int, unsigned int, usigned long int, unsigned long long int, float, double, and long double.\n",
    "Lastly, it prints out the byte and bit size for each type using print_type function that is defined in typeio.c. And it also prints out the bits for the integer using print_bits function which is also defined in typeio.c."
   ]
  },
  {
   "cell_type": "markdown",
   "metadata": {
    "collapsed": false
   },
   "source": [
    "#### What are the integer values for the letters 'A', 'Z', 'a', and 'z'?\n",
    "Letter | Decimal | Binary | Atoi converts to\n",
    "-------| --------|--------| --------\n",
    "A | 65 | 100 0001 | 0\n",
    "Z | 90 | 101 1010 | 0\n",
    "a | 97 | 110 0001 | 0\n",
    "z | 122 | 111 1011 | 0"
   ]
  },
  {
   "cell_type": "code",
   "execution_count": 3,
   "metadata": {
    "collapsed": false
   },
   "outputs": [
    {
     "name": "stdout",
     "output_type": "stream",
     "text": [
      "Using unsigned integer: 0\n"
     ]
    },
    {
     "name": "stdout",
     "output_type": "stream",
     "text": [
      "\n"
     ]
    },
    {
     "name": "stdout",
     "output_type": "stream",
     "text": [
      "Character (1 bytes, 8 bits):\n"
     ]
    },
    {
     "name": "stdout",
     "output_type": "stream",
     "text": [
      "   \u0000 : 00000000\n"
     ]
    },
    {
     "name": "stdout",
     "output_type": "stream",
     "text": [
      "Unsigned character (1 bytes, 8 bits):\n"
     ]
    },
    {
     "name": "stdout",
     "output_type": "stream",
     "text": [
      "   0 : 00000000\n"
     ]
    },
    {
     "name": "stdout",
     "output_type": "stream",
     "text": [
      "Short Integer (2 bytes, 16 bits):\n"
     ]
    },
    {
     "name": "stdout",
     "output_type": "stream",
     "text": [
      "   0 : 0000000000000000\n"
     ]
    },
    {
     "name": "stdout",
     "output_type": "stream",
     "text": [
      "Integer (4 bytes, 32 bits):\n"
     ]
    },
    {
     "name": "stdout",
     "output_type": "stream",
     "text": [
      "   0 : 00000000000000000000000000000000\n"
     ]
    },
    {
     "name": "stdout",
     "output_type": "stream",
     "text": [
      "Long Integer (8 bytes, 64 bits):\n"
     ]
    },
    {
     "name": "stdout",
     "output_type": "stream",
     "text": [
      "   0 : 0000000000000000000000000000000000000000000000000000000000000000\n"
     ]
    },
    {
     "name": "stdout",
     "output_type": "stream",
     "text": [
      "Unsigned Integer (4 bytes, 32 bits):\n"
     ]
    },
    {
     "name": "stdout",
     "output_type": "stream",
     "text": [
      "   0 : 00000000000000000000000000000000\n"
     ]
    },
    {
     "name": "stdout",
     "output_type": "stream",
     "text": [
      "Unsigned Long Integer (8 bytes, 64 bits):\n"
     ]
    },
    {
     "name": "stdout",
     "output_type": "stream",
     "text": [
      "   0 : 0000000000000000000000000000000000000000000000000000000000000000\n"
     ]
    },
    {
     "name": "stdout",
     "output_type": "stream",
     "text": [
      "Unsigned Long Long Integer (8 bytes, 64 bits):\n"
     ]
    },
    {
     "name": "stdout",
     "output_type": "stream",
     "text": [
      "   0 : 0000000000000000000000000000000000000000000000000000000000000000\n"
     ]
    },
    {
     "name": "stdout",
     "output_type": "stream",
     "text": [
      "Float (4 bytes, 32 bits):\n"
     ]
    },
    {
     "name": "stdout",
     "output_type": "stream",
     "text": [
      "   0.000000 : 00000000000000000000000000000000\n"
     ]
    },
    {
     "name": "stdout",
     "output_type": "stream",
     "text": [
      "Double (8 bytes, 64 bits):\n"
     ]
    },
    {
     "name": "stdout",
     "output_type": "stream",
     "text": [
      "   0.000000 : 0000000000000000000000000000000000000000000000000000000000000000\n"
     ]
    },
    {
     "name": "stdout",
     "output_type": "stream",
     "text": [
      "Long Double (16 bytes, 128 bits):\n"
     ]
    },
    {
     "name": "stdout",
     "output_type": "stream",
     "text": [
      "   0.000000 : 00000000000000000000000000000000000000000000000000000000000000000000000000000000000000000000000000000000000000000000000000000000\n"
     ]
    }
   ],
   "source": [
    "./src/bit_print/print_types A"
   ]
  },
  {
   "cell_type": "markdown",
   "metadata": {
    "collapsed": false
   },
   "source": [
    "#### What are the integer values for the numbers '0', '1', and '9' represented as characters?\n",
    "Letter | Decimal | Binary | Atoi converts to\n",
    "-------| --------|--------| --------\n",
    "0 | 48 | 011 0000 | 0\n",
    "1 | 49 | 011 0001 | 1\n",
    "9 | 57 | 001 1001 | 9"
   ]
  },
  {
   "cell_type": "code",
   "execution_count": 3,
   "metadata": {
    "collapsed": false
   },
   "outputs": [
    {
     "name": "stdout",
     "output_type": "stream",
     "text": [
      "Using unsigned integer: 9\n"
     ]
    },
    {
     "name": "stdout",
     "output_type": "stream",
     "text": [
      "\n"
     ]
    },
    {
     "name": "stdout",
     "output_type": "stream",
     "text": [
      "Character (1 bytes, 8 bits):\n"
     ]
    },
    {
     "name": "stdout",
     "output_type": "stream",
     "text": [
      "   \t : 00001001\n"
     ]
    },
    {
     "name": "stdout",
     "output_type": "stream",
     "text": [
      "Unsigned character (1 bytes, 8 bits):\n"
     ]
    },
    {
     "name": "stdout",
     "output_type": "stream",
     "text": [
      "   9 : 00001001\n"
     ]
    },
    {
     "name": "stdout",
     "output_type": "stream",
     "text": [
      "Short Integer (2 bytes, 16 bits):\n"
     ]
    },
    {
     "name": "stdout",
     "output_type": "stream",
     "text": [
      "   9 : 0000000000001001\n"
     ]
    },
    {
     "name": "stdout",
     "output_type": "stream",
     "text": [
      "Integer (4 bytes, 32 bits):\n"
     ]
    },
    {
     "name": "stdout",
     "output_type": "stream",
     "text": [
      "   9 : 00000000000000000000000000001001\n"
     ]
    },
    {
     "name": "stdout",
     "output_type": "stream",
     "text": [
      "Long Integer (8 bytes, 64 bits):\n"
     ]
    },
    {
     "name": "stdout",
     "output_type": "stream",
     "text": [
      "   9 : 0000000000000000000000000000000000000000000000000000000000001001\n"
     ]
    },
    {
     "name": "stdout",
     "output_type": "stream",
     "text": [
      "Unsigned Integer (4 bytes, 32 bits):\n"
     ]
    },
    {
     "name": "stdout",
     "output_type": "stream",
     "text": [
      "   9 : 00000000000000000000000000001001\n"
     ]
    },
    {
     "name": "stdout",
     "output_type": "stream",
     "text": [
      "Unsigned Long Integer (8 bytes, 64 bits):\n"
     ]
    },
    {
     "name": "stdout",
     "output_type": "stream",
     "text": [
      "   9 : 0000000000000000000000000000000000000000000000000000000000001001\n"
     ]
    },
    {
     "name": "stdout",
     "output_type": "stream",
     "text": [
      "Unsigned Long Long Integer (8 bytes, 64 bits):\n"
     ]
    },
    {
     "name": "stdout",
     "output_type": "stream",
     "text": [
      "   9 : 0000000000000000000000000000000000000000000000000000000000001001\n"
     ]
    },
    {
     "name": "stdout",
     "output_type": "stream",
     "text": [
      "Float (4 bytes, 32 bits):\n"
     ]
    },
    {
     "name": "stdout",
     "output_type": "stream",
     "text": [
      "   9.000000 : 01000001000100000000000000000000\n"
     ]
    },
    {
     "name": "stdout",
     "output_type": "stream",
     "text": [
      "Double (8 bytes, 64 bits):\n"
     ]
    },
    {
     "name": "stdout",
     "output_type": "stream",
     "text": [
      "   9.000000 : 0100000000100010000000000000000000000000000000000000000000000000\n"
     ]
    },
    {
     "name": "stdout",
     "output_type": "stream",
     "text": [
      "Long Double (16 bytes, 128 bits):\n"
     ]
    },
    {
     "name": "stdout",
     "output_type": "stream",
     "text": [
      "   9.000000 : 00000000000000000000000000000000000000000000000001000000000000101001000000000000000000000000000000000000000000000000000000000000\n"
     ]
    }
   ],
   "source": [
    "./src/bit_print/print_types 9"
   ]
  },
  {
   "cell_type": "markdown",
   "metadata": {
    "collapsed": false
   },
   "source": [
    "#### If you needed to store a 2D array of 10000x10000 complex numbers, how much memory would it require (in megabytes) if: a) the real and imaginary parts were each shorts? b) the real and imaginary parts were each long doubles? (Recall the prefixes: kilo = 10^3, mega = 10^6, giga = 10^9, tera = 10^12, peta = 10^15, exa = 10^18, zetta = 10^21, yotta = 10^24)\n",
    "a) the real and imaginary parts were each shorts: real (2 bytes) and imag (2 bytes) = 4 bytes for each complex number. 4x10000x10000 = 400,000,000 (400 mega bytes)\n",
    "b) the real and imaginary parts were each long doubles: (16 bytes) and imag (16 bytes) = 32 bytes for each complex number. 32x10000x10000 = 3,200,000,000 (3.2 giga bytes)\n",
    "\n",
    "#### Work out the algorithm for how the bit string for an unsigned int is interpreted as an integer. Describe this algorithm in your notebook.\n",
    "A binary number can be translated into an decimal integer with this \"pseudo\"-code: \n",
    "```\n",
    "B[] = bit_string; // for example, '1010'\n",
    "R = 0; \n",
    "for (i=0; i < len(B); i++)\n",
    "    R += B[i] * 2^i\n",
    "```\n",
    "For example, a bit string 1010 can be converted to 10 with the formula: `1x2^3 + 0x2^2 + 1x2^1 + 0x2^0 = 10`. \n",
    "\n",
    "\n",
    "#### Work out the algorithm for how the bit string for a (signed) int is interpreted as an integer. How does this differ from an unsigned int? What are the maximum and minimum bounds of each? Describe this algorithm in your notebook.\n",
    "Signed integer has +/- range of numbers. So, the algorithm for an unsigned integer does not work for a signed integer. We use *Two's Complement Encoding\"* for signed integer. In this rule, the leftmost bit signs a positive/negative value. The bit string starting with 0 is a positive value; the one starting with 1 is a negative value. For example, for 1010 bit string (integer -6), first, we will flip all bits (0 to 1, 1 to 0) to 0101. And then we add one to the flipped bit string so that 0101 becomes 0110. The bit string 0110 is 6 in integer.\n",
    "\n",
    "**bounds**\n",
    "\n",
    "Type | Start | End\n",
    "------|-----|------\n",
    "Unsigned Integer | 0 | 4,294,967,295\n",
    "Signed Integer | -2,147,483,648  | 2,147,483,647 \n",
    "\n"
   ]
  },
  {
   "cell_type": "code",
   "execution_count": 0,
   "metadata": {
    "collapsed": false
   },
   "outputs": [
   ],
   "source": [
   ]
  }
 ],
 "metadata": {
  "kernelspec": {
   "display_name": "Bash (Linux)",
   "language": "bash",
   "name": "bash"
  },
  "language_info": {
   "codemirror_mode": "shell",
   "file_extension": ".sh",
   "mimetype": "text/x-sh",
   "name": "bash"
  }
 },
 "nbformat": 4,
 "nbformat_minor": 0
}