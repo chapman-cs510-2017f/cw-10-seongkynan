{
 "cells": [
  {
   "cell_type": "markdown",
   "metadata": {
    "collapsed": false
   },
   "source": [
    "#### In a Jupyter notebook Structs.ipynb, describe what print_structs does in detail. Answer the following questions."
   ]
  },
  {
   "cell_type": "markdown",
   "metadata": {
    "collapsed": false
   },
   "source": [
    "The print_structs program shows how to use the structs in C progrmaming language. Specifically, it demonstrates two ways of passing arguments and their differences: 1) by value and 2) by reference. \n",
    "1. Include stdio.h and structs.h. The header structs.h defines a struct (vec3), three types (VEC3, COM, VEC2), and four functions (modifyVec3, setVec2, printVec2, printVec3). The source file structs.c implements those four functions.The function modifyVec takes the first argument VEC3 v as a value, which means that the argument value will be copied inside the function so that any change in the function will not be reflected outside the function. In contrary, the function setVec2 takes the first argument as a reference using a pointer, which means that any change inside the function will immediately update the value that the pointer points to. It is a good practice to pass an argument as a reference because it save memory spaces. The last two functions printVec2 and printVec3 have a purpose of printing the updated two structs instances.\n",
    "2. The program initializes two structs (v and w) with each attributes 0. And it updates two structs using two different functions implemented in structs.c. The first one v is updated by using modifyVec (by value). The print output shows that the original v is not updated outside the function, because its argument is modified by value. To check the newly updated struct v, it have to use the returned v by the function (third example). The secondly initialized struct w is updated by using setVec2 (by reference). The original w's attributes are immediately modified because the function deferences the pointer and assigns a new value to the variable that the pointer points to."
   ]
  },
  {
   "cell_type": "code",
   "execution_count": 1,
   "metadata": {
    "collapsed": false
   },
   "outputs": [
    {
     "name": "stdout",
     "output_type": "stream",
     "text": [
      "-----Pass by value test-----\n"
     ]
    },
    {
     "name": "stdout",
     "output_type": "stream",
     "text": [
      "Original 3 vector:\n"
     ]
    },
    {
     "name": "stdout",
     "output_type": "stream",
     "text": [
      "3Vector : [0.000000, 0.000000, 0.000000]\n"
     ]
    },
    {
     "name": "stdout",
     "output_type": "stream",
     "text": [
      "Original 3 vector after modification:\n"
     ]
    },
    {
     "name": "stdout",
     "output_type": "stream",
     "text": [
      "3Vector : [0.000000, 0.000000, 0.000000]\n"
     ]
    },
    {
     "name": "stdout",
     "output_type": "stream",
     "text": [
      "New 3 vector after modification:\n"
     ]
    },
    {
     "name": "stdout",
     "output_type": "stream",
     "text": [
      "3Vector : [15.000000, 0.000000, 0.000000]\n"
     ]
    },
    {
     "name": "stdout",
     "output_type": "stream",
     "text": [
      "-----Pass by reference test-----\n"
     ]
    },
    {
     "name": "stdout",
     "output_type": "stream",
     "text": [
      "Original 2 vector:\n"
     ]
    },
    {
     "name": "stdout",
     "output_type": "stream",
     "text": [
      "2Vector : [0.000000, 0.000000]\n"
     ]
    },
    {
     "name": "stdout",
     "output_type": "stream",
     "text": [
      "Original 2 vector after modification:\n"
     ]
    },
    {
     "name": "stdout",
     "output_type": "stream",
     "text": [
      "2Vector : [1.000000, 2.000000]\n"
     ]
    }
   ],
   "source": [
    "./bin/print_structs"
   ]
  },
  {
   "cell_type": "markdown",
   "metadata": {
    "collapsed": false
   },
   "source": [
    "#### Explain the difference between \"pass by value\" and \"pass by reference\" in your own words. Support your explanation with concrete examples from the program output.\n",
    "The outputs of print_structs display five outputs. The first three show how 'passing by value' updates the attributes of a struct. The second output (after modification) has the same to the original. This is because the struct was modified by value. It does not reflect any change, until it uses the returned new struct from the function (third example). The last four and fifth show how 'passing by reference' updates the attributes of a struct. It uses a pointer when the function updates the attributes of the struct. Because the pointer is dereferenced inside function and so it can modify directly the value saved in the memory. The struct attribute outside the function will be updated immediately."
   ]
  },
  {
   "cell_type": "markdown",
   "metadata": {
    "collapsed": false
   },
   "source": [
    "#### Explain the difference between v.x and v->x for a struct v with field x.\n",
    "v.x and v->x  basically do the same thing with a diffent syntax. This is how to access to the attribute value of a struct. It is very similar to accessing the attributes of an object in an Object-Oriented Programming.   "
   ]
  }
 ],
 "metadata": {
  "kernelspec": {
   "display_name": "Bash (Linux)",
   "language": "bash",
   "name": "bash"
  },
  "language_info": {
   "codemirror_mode": "shell",
   "file_extension": ".sh",
   "mimetype": "text/x-sh",
   "name": "bash"
  }
 },
 "nbformat": 4,
 "nbformat_minor": 0
}